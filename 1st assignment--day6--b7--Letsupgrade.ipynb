{
 "cells": [
  {
   "cell_type": "code",
   "execution_count": 25,
   "metadata": {},
   "outputs": [],
   "source": [
    "\n",
    "class bankaccount():\n",
    "    def __init__(self,name,balance):\n",
    "        self.name=name\n",
    "        self.balance=balance\n",
    "    def withdraw(self):\n",
    "        w=input(\"enter amount do you want to withdraw\")\n",
    "        if self.balance-int(w)>0:\n",
    "            self.balance=self.balance-int(w)\n",
    "        else:\n",
    "            print(\"not possible to withdraw\\nyour account balance is low\\n\")\n",
    "        print(\"\\nName----------------\",self.name)\n",
    "        print(\"Withdraw balance----\",int(w))\n",
    "        print(\"Available balance-----\",self.balance)\n",
    "    def deposite(self):\n",
    "        d=input(\"enter amount do you want to deposite\")\n",
    "        self.balance=self.balance+int(d)\n",
    "        print(\"\\nName----------------\",self.name)\n",
    "        print(\"\\nDeposite balance----\",int(d))\n",
    "        print(\"Available balance-----\",self.balance)\n",
    "    def accountdetails(self):\n",
    "        print(\"\\nName----------------\",self.name)\n",
    "        print(\"Available balance-----\",self.balance)\n",
    "    "
   ]
  },
  {
   "cell_type": "code",
   "execution_count": 26,
   "metadata": {},
   "outputs": [],
   "source": [
    "d=bankaccount(\"m.kalyani\",5000)"
   ]
  },
  {
   "cell_type": "code",
   "execution_count": 27,
   "metadata": {},
   "outputs": [
    {
     "name": "stdout",
     "output_type": "stream",
     "text": [
      "\n",
      "Name---------------- m.kalyani\n",
      "Available balance----- 5000\n"
     ]
    }
   ],
   "source": [
    "d.accountdetails()"
   ]
  },
  {
   "cell_type": "code",
   "execution_count": 28,
   "metadata": {},
   "outputs": [
    {
     "name": "stdout",
     "output_type": "stream",
     "text": [
      "enter amount do you want to withdraw500\n",
      "\n",
      "Name---------------- m.kalyani\n",
      "Withdraw balance---- 500\n",
      "Available balance----- 4500\n"
     ]
    }
   ],
   "source": [
    "d.withdraw()"
   ]
  },
  {
   "cell_type": "code",
   "execution_count": 29,
   "metadata": {},
   "outputs": [
    {
     "name": "stdout",
     "output_type": "stream",
     "text": [
      "enter amount do you want to deposite500\n",
      "\n",
      "Name---------------- m.kalyani\n",
      "\n",
      "Deposite balance---- 500\n",
      "Available balance----- 5000\n"
     ]
    }
   ],
   "source": [
    "d.deposite()"
   ]
  },
  {
   "cell_type": "code",
   "execution_count": 30,
   "metadata": {},
   "outputs": [
    {
     "name": "stdout",
     "output_type": "stream",
     "text": [
      "enter amount do you want to withdraw5000\n",
      "not possible to withdraw\n",
      "your account balance is low\n",
      "\n",
      "\n",
      "Name---------------- m.kalyani\n",
      "Withdraw balance---- 5000\n",
      "Available balance----- 5000\n"
     ]
    }
   ],
   "source": [
    "d.withdraw()"
   ]
  },
  {
   "cell_type": "code",
   "execution_count": null,
   "metadata": {},
   "outputs": [],
   "source": []
  }
 ],
 "metadata": {
  "kernelspec": {
   "display_name": "Python 3",
   "language": "python",
   "name": "python3"
  },
  "language_info": {
   "codemirror_mode": {
    "name": "ipython",
    "version": 3
   },
   "file_extension": ".py",
   "mimetype": "text/x-python",
   "name": "python",
   "nbconvert_exporter": "python",
   "pygments_lexer": "ipython3",
   "version": "3.7.1"
  }
 },
 "nbformat": 4,
 "nbformat_minor": 2
}
